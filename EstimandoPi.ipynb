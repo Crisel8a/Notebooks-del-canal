{
 "cells": [
  {
   "cell_type": "code",
   "execution_count": 2,
   "id": "00f205ed",
   "metadata": {},
   "outputs": [],
   "source": [
    "import pennylane as qml\n",
    "import numpy as np"
   ]
  },
  {
   "cell_type": "code",
   "execution_count": 7,
   "id": "47f9682a",
   "metadata": {},
   "outputs": [],
   "source": [
    "dev = qml.device(\"default.qubit\", wires = 1)\n",
    "\n",
    "@qml.qnode(dev)\n",
    "def circuit(theta):\n",
    "    qml.RX(theta, wires = 0)\n",
    "    return qml.probs(wires = 0)\n",
    "\n",
    "def probs_0(theta):\n",
    "    return circuit(theta)[0]\n",
    "\n",
    "opt = qml.GradientDescentOptimizer(stepsize = 0.2)\n",
    "\n",
    "epochs = 150\n",
    "\n",
    "sols = []\n",
    "theta = np.random.rand()\n",
    "for epoch in range(epochs):\n",
    "    theta = opt.step(probs_0, theta)\n",
    "    sols.append(theta)\n",
    "    "
   ]
  },
  {
   "cell_type": "code",
   "execution_count": 9,
   "id": "79232d82",
   "metadata": {},
   "outputs": [
    {
     "data": {
      "image/png": "[encoded data removed]",
      "text/plain": [
       "<Figure size 432x288 with 1 Axes>"
      ]
     },
     "metadata": {
      "needs_background": "light"
     },
     "output_type": "display_data"
    }
   ],
   "source": [
    "import matplotlib.pyplot as plt\n",
    "\n",
    "plt.plot(sols, label = \"aprox pi\")\n",
    "plt.plot([np.pi]*epochs, label = \"real pi\")\n",
    "plt.legend()\n",
    "plt.show()"
   ]
  },
  {
   "cell_type": "code",
   "execution_count": null,
   "id": "ddde48fe",
   "metadata": {},
   "outputs": [],
   "source": []
  }
 ],
 "metadata": {
  "kernelspec": {
   "display_name": "Python 3",
   "language": "python",
   "name": "python3"
  },
  "language_info": {
   "codemirror_mode": {
    "name": "ipython",
    "version": 3
   },
   "file_extension": ".py",
   "mimetype": "text/x-python",
   "name": "python",
   "nbconvert_exporter": "python",
   "pygments_lexer": "ipython3",
   "version": "3.8.8"
  }
 },
 "nbformat": 4,
 "nbformat_minor": 5
}
