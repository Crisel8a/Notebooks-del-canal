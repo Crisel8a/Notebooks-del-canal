{
 "cells": [
  {
   "cell_type": "markdown",
   "id": "7a67393d",
   "metadata": {},
   "source": [
    "# Dataset\n",
    "\n",
    "En primer lugar generamos el dataset en el que nos basaremos.\n",
    "Tendremos dos clases distintas que les daremos el valor 1 y -1 respectivamente y seguirán una distribución normal. Puedes cambiar este dataset por cualquier que te guste pero las clases siempre deberán estar representadas con los valores 1 y -1."
   ]
  },
  {
   "cell_type": "code",
   "execution_count": 1,
   "id": "97d4f16b",
   "metadata": {},
   "outputs": [
    {
     "data": {
      "image/png": "[encoded data removed]",
      "text/plain": [
       "<Figure size 432x288 with 1 Axes>"
      ]
     },
     "metadata": {
      "needs_background": "light"
     },
     "output_type": "display_data"
    }
   ],
   "source": [
    "import pennylane as qml\n",
    "from pennylane import numpy as np \n",
    "import matplotlib.pyplot as plt\n",
    "\n",
    "np.random.seed(42)\n",
    "\n",
    "n_samples = 200\n",
    "\n",
    "# A es la clase 1\n",
    "# B es la clase -1\n",
    "\n",
    "A_train = np.array([[np.random.normal(loc=-0.7), np.random.normal(loc=0.7)] for i in range(n_samples//4)]) \n",
    "B_train = np.array([[np.random.normal(loc=0.7), np.random.normal(loc=-0.7)] for i in range(n_samples//4)]) \n",
    "\n",
    "train_data = np.concatenate([A_train, B_train])\n",
    "train_labels = [1] * (n_samples // 4) + [-1] * (n_samples // 4)\n",
    "\n",
    "A_test = np.array([[np.random.normal(loc=-0.7), np.random.normal(loc=0.7)] for i in range(n_samples//4)]) \n",
    "B_test = np.array([[np.random.normal(loc=0.7), np.random.normal(loc=-0.7)] for i in range(n_samples//4)]) \n",
    "\n",
    "test_data = np.concatenate([A_test, B_test])\n",
    "test_labels = [1] * (n_samples // 4) + [-1] * (n_samples // 4)\n",
    "\n",
    "plt.scatter(A_train[:,0], A_train[:,1], color = \"orange\")\n",
    "plt.scatter(B_train[:,0], B_train[:,1], color = \"blue\")\n",
    "\n",
    "plt.show()"
   ]
  },
  {
   "cell_type": "markdown",
   "id": "6b9a25f0",
   "metadata": {},
   "source": [
    "# Modelo\n",
    "En primer lugar definiremos el feature map, es decir, como vamos a codificar los datos. Se puede ver como la función que envían un vector del dominio clásico al dominio cuántico. Después de esto, hay que definir una función kernel capaz de determinar si dos elementos son similares o no."
   ]
  },
  {
   "cell_type": "code",
   "execution_count": 2,
   "id": "e151ae47",
   "metadata": {},
   "outputs": [],
   "source": [
    "def feature_map(x, wires):\n",
    "    qml.RY(x[0], wires = wires[0])\n",
    "    qml.RY(x[1], wires = wires[1])\n",
    "    \n",
    "# |<x1|x2>|^2\n",
    "\n",
    "dev = qml.device(\"default.qubit\", wires = 5)\n",
    "\n",
    "@qml.qnode(dev)\n",
    "def kernel(x1,x2):\n",
    "    \n",
    "    feature_map(x1, wires = [1,2])\n",
    "    feature_map(x2, wires = [3,4])\n",
    "    \n",
    "    qml.Hadamard(wires = 0)\n",
    "    qml.CSWAP(wires = [0,1,3])\n",
    "    qml.CSWAP(wires = [0,2,4])\n",
    "    qml.Hadamard(wires = 0)\n",
    "    \n",
    "    return qml.expval(qml.PauliZ(0))\n",
    "\n",
    "\n",
    "    "
   ]
  },
  {
   "cell_type": "markdown",
   "id": "2f9571a7",
   "metadata": {},
   "source": [
    "# Predicción\n",
    "\n",
    "Una vez que tenemos el modelo generado ya podemos preguntar por las predicciones de nuestro conjunto de test. Es importante remarcar que este modelo es más lento a la hora de predecir que otros algoritmos variacionales pero a cambio no ha hecho falta realizar ningún entrenamiento!"
   ]
  },
  {
   "cell_type": "code",
   "execution_count": 3,
   "id": "d6fa72a3",
   "metadata": {},
   "outputs": [
    {
     "name": "stdout",
     "output_type": "stream",
     "text": [
      "0.84\n"
     ]
    }
   ],
   "source": [
    "def prediction(x):\n",
    "    sol = 0\n",
    "    for i in range(len(train_data)):\n",
    "        sol += train_labels[i] * kernel(x, train_data[i])\n",
    "    return np.sign(sol)\n",
    "\n",
    "prediction(test_data[0])\n",
    "\n",
    "n = 0\n",
    "for i in range(len(test_data)):\n",
    "    if prediction(test_data[i]) == test_labels[i]:\n",
    "        n += 1\n",
    "        \n",
    "print(n / len(test_data))"
   ]
  },
  {
   "cell_type": "markdown",
   "id": "1f923fba",
   "metadata": {},
   "source": [
    "Enhorabuena! Has conseguido una predicción del 84\\%"
   ]
  },
  {
   "cell_type": "code",
   "execution_count": null,
   "id": "ad3ce154",
   "metadata": {},
   "outputs": [],
   "source": []
  }
 ],
 "metadata": {
  "kernelspec": {
   "display_name": "Python 3 (ipykernel)",
   "language": "python",
   "name": "python3"
  },
  "language_info": {
   "codemirror_mode": {
    "name": "ipython",
    "version": 3
   },
   "file_extension": ".py",
   "mimetype": "text/x-python",
   "name": "python",
   "nbconvert_exporter": "python",
   "pygments_lexer": "ipython3",
   "version": "3.8.8"
  }
 },
 "nbformat": 4,
 "nbformat_minor": 5
}
