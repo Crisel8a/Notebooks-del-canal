{
 "cells": [
  {
   "cell_type": "markdown",
   "id": "ce6c8dba",
   "metadata": {},
   "source": [
    "## Quantum KNN\n",
    "\n",
    "A lo largo de este notebook vamos a enseñar de forma sencilla como implementar la versión cuántica del KNN. En este ejemplo, utilizaremos el computador cuántico a modo de feature map para poder aplicar los datos en un nuevo espacio. \n",
    "\n",
    "Lo primero de todo será generar el dataset con el que vamos a trabajar. Dispondremos de puntos tipo A (naranjas) y tipo B (azules), que siguen una distribución normal."
   ]
  },
  {
   "cell_type": "code",
   "execution_count": 1,
   "id": "e33c5f65",
   "metadata": {},
   "outputs": [
    {
     "data": {
      "image/png": "[encoded data removed]",
      "text/plain": [
       "<Figure size 432x288 with 1 Axes>"
      ]
     },
     "metadata": {
      "needs_background": "light"
     },
     "output_type": "display_data"
    }
   ],
   "source": [
    "import pennylane as qml\n",
    "from pennylane import numpy as np \n",
    "import matplotlib.pyplot as plt\n",
    "\n",
    "np.random.seed(42)\n",
    "\n",
    "n_samples = 200\n",
    "\n",
    "A_train = np.array([[np.random.normal(loc=-0.7), np.random.normal(loc=0.7)] for i in range(n_samples//4)]) \n",
    "B_train = np.array([[np.random.normal(loc=0.7), np.random.normal(loc=-0.7)] for i in range(n_samples//4)]) \n",
    "\n",
    "train_labels = [\"A\"] * (n_samples // 4) + [\"B\"] * (n_samples // 4)\n",
    "\n",
    "A_test = np.array([[np.random.normal(loc=-0.7), np.random.normal(loc=0.7)] for i in range(n_samples//4)]) \n",
    "B_test = np.array([[np.random.normal(loc=0.7), np.random.normal(loc=-0.7)] for i in range(n_samples//4)]) \n",
    "\n",
    "test_labels = [\"A\"] * (n_samples // 4) + [\"B\"] * (n_samples // 4)\n",
    "\n",
    "plt.scatter(A_train[:,0], A_train[:,1], color = \"orange\")\n",
    "plt.scatter(B_train[:,0], B_train[:,1], color = \"blue\")\n",
    "\n",
    "plt.show()"
   ]
  },
  {
   "cell_type": "markdown",
   "id": "c058bf78",
   "metadata": {},
   "source": [
    "El siguiente de los pasos es por un lado mapear nuestro dataset a un nuevo espacio a través del computador y después calcular la distancia entre los estados. En particular, como ya vimos en [este video](https://youtu.be/tpPQCtBmRbc), la formula de la distancia es:\n",
    "\n",
    "$$d(x_1,x_2)=2-2\\vert\\langle\\phi(x_1)\\vert\\phi(x_2)\\rangle\\vert^2$$\n",
    "\n",
    "Por lo tanto, lo que haremos será calcular $\\vert\\langle\\phi(x_1)\\vert\\phi(x_2)\\rangle\\vert^2$ a través de [Swap-Test](https://youtu.be/V43R-26NtUU) y sustituir en la distancia."
   ]
  },
  {
   "cell_type": "code",
   "execution_count": 2,
   "id": "b3772fc1",
   "metadata": {},
   "outputs": [
    {
     "data": {
      "text/plain": [
       "tensor(1.09554785, requires_grad=True)"
      ]
     },
     "execution_count": 2,
     "metadata": {},
     "output_type": "execute_result"
    }
   ],
   "source": [
    "def feature_map(x, wires):\n",
    "\n",
    "    qml.RY(x[0], wires = wires[0])\n",
    "    qml.RY(x[1], wires = wires[1])\n",
    "    \n",
    "# |<x1|x2>|^2\n",
    "\n",
    "dev = qml.device(\"default.qubit\", wires = 5)\n",
    "\n",
    "@qml.qnode(dev)\n",
    "def swap_test(x1,x2):\n",
    "    \n",
    "    feature_map(x1, wires = [1,2])\n",
    "    feature_map(x2, wires = [3,4])\n",
    "    \n",
    "    qml.Hadamard(wires = 0)\n",
    "    qml.CSWAP(wires = [0,1,3])\n",
    "    qml.CSWAP(wires = [0,2,4])\n",
    "    qml.Hadamard(wires = 0)\n",
    "    \n",
    "    return qml.expval(qml.PauliZ(0))\n",
    "    \n",
    "def distance(x1, x2):\n",
    "    return 2 - 2 * swap_test(x1,x2)\n",
    "\n",
    "# Para ver que funciona, calcularemos la distancia entre dos puntos\n",
    "\n",
    "distance(A_train[0], A_train[1])"
   ]
  },
  {
   "cell_type": "markdown",
   "id": "609e00f8",
   "metadata": {},
   "source": [
    "Una vez que hemos definido la distancia, podemos utilizarla como nueva métrica del KNN, por lo que haremos uso de la librería `sklearn` para llevarlo a cabo de forma sencilla."
   ]
  },
  {
   "cell_type": "code",
   "execution_count": 3,
   "id": "cda665ea",
   "metadata": {},
   "outputs": [
    {
     "data": {
      "text/plain": [
       "0.77"
      ]
     },
     "execution_count": 3,
     "metadata": {},
     "output_type": "execute_result"
    }
   ],
   "source": [
    "from sklearn.neighbors import KNeighborsClassifier\n",
    "\n",
    "neigh = KNeighborsClassifier(n_neighbors=3,metric=distance)\n",
    "\n",
    "neigh.fit(np.concatenate([A_train,B_train]),train_labels)\n",
    "neigh.score(np.concatenate([A_test,B_test]), test_labels)"
   ]
  },
  {
   "cell_type": "markdown",
   "id": "6699727e",
   "metadata": {},
   "source": [
    "Genial! Hemos conseguido un $77\\%$ de precisión con este feature map!\n",
    "\n",
    "Prueba a cambiar el feature map a ver si consigues mejorar estos valores :)"
   ]
  },
  {
   "cell_type": "code",
   "execution_count": null,
   "id": "95a1a0d6",
   "metadata": {},
   "outputs": [],
   "source": []
  }
 ],
 "metadata": {
  "kernelspec": {
   "display_name": "Python 3",
   "language": "python",
   "name": "python3"
  },
  "language_info": {
   "codemirror_mode": {
    "name": "ipython",
    "version": 3
   },
   "file_extension": ".py",
   "mimetype": "text/x-python",
   "name": "python",
   "nbconvert_exporter": "python",
   "pygments_lexer": "ipython3",
   "version": "3.8.8"
  }
 },
 "nbformat": 4,
 "nbformat_minor": 5
}
