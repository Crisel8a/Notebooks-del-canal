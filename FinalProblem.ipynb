{
 "cells": [
  {
   "cell_type": "code",
   "execution_count": 2,
   "metadata": {},
   "outputs": [],
   "source": [
    "from qiskit import *"
   ]
  },
  {
   "cell_type": "code",
   "execution_count": 3,
   "metadata": {},
   "outputs": [
    {
     "data": {
      "text/plain": [
       "{'0': 90, '1': 910}"
      ]
     },
     "execution_count": 3,
     "metadata": {},
     "output_type": "execute_result"
    }
   ],
   "source": [
    "tablero = \"1000010000010010\"\n",
    "\n",
    "#   0   1   2   3\n",
    "#   4   5   6   7\n",
    "#   8   9  10  11\n",
    "#  12  13  14  15\n",
    "\n",
    "qc = QuantumCircuit(16 + 6 + 1, 1)\n",
    "\n",
    "def añadir_tablero(qc, tablero):\n",
    "    for ind, i in enumerate(tablero):\n",
    "        if i == \"1\":\n",
    "            qc.x(ind)\n",
    "    return qc\n",
    "            \n",
    "qc = añadir_tablero(qc, tablero)\n",
    "\n",
    "def añadir_cswap(qc, control, columna1, columna2):\n",
    "    for i in range(len(columna1)):\n",
    "        qc.cswap(control, columna1[i], columna2[i])\n",
    "    return qc\n",
    "\n",
    "def añadir_permutaciones(qc):\n",
    "    \n",
    "    qc = añadir_cswap(qc, 16, [0,4,8,12], [1,5,9,13])\n",
    "    qc = añadir_cswap(qc, 17, [0,4,8,12], [2,6,10,14])\n",
    "    qc = añadir_cswap(qc, 18, [0,4,8,12], [3,7,11,15])\n",
    "    qc = añadir_cswap(qc, 19, [1,5,9,13], [2,6,10,14])\n",
    "    qc = añadir_cswap(qc, 20, [1,5,9,13], [3,7,11,15])\n",
    "    qc = añadir_cswap(qc, 21, [2,6,10,14], [3,7,11,15])\n",
    "    return qc\n",
    "\n",
    "def deshacer_permutaciones(qc):\n",
    "    \n",
    "    qc = añadir_cswap(qc, 21, [2,6,10,14], [3,7,11,15])\n",
    "    qc = añadir_cswap(qc, 20, [1,5,9,13], [3,7,11,15])\n",
    "    qc = añadir_cswap(qc, 19, [1,5,9,13], [2,6,10,14])\n",
    "    qc = añadir_cswap(qc, 18, [0,4,8,12], [3,7,11,15])\n",
    "    qc = añadir_cswap(qc, 17, [0,4,8,12], [2,6,10,14])\n",
    "    qc = añadir_cswap(qc, 16, [0,4,8,12], [1,5,9,13])\n",
    "    return qc\n",
    "    \n",
    "\n",
    "def añadir_oraculo(qc):\n",
    "    \n",
    "    qc.h(12)\n",
    "    qc.mct([3,6,9], 12)\n",
    "    qc.h(12)\n",
    "\n",
    "    return qc\n",
    "\n",
    "\n",
    "def añadir_grover(qc):\n",
    "    qc.h(range(16,22))\n",
    "    qc.x(range(16,22))\n",
    "    qc.h(21)\n",
    "    qc.mct(list(range(16,21)),21)\n",
    "    qc.h(21)\n",
    "    qc.x(range(16,22))\n",
    "    qc.h(range(16,22))\n",
    "    return qc\n",
    "\n",
    "\n",
    "\n",
    "qc.h(range(16,22))\n",
    "\n",
    "for _ in range(2):\n",
    "    \n",
    "    qc = añadir_permutaciones(qc)\n",
    "    qc = añadir_oraculo(qc)\n",
    "    qc = deshacer_permutaciones(qc)\n",
    "    qc = añadir_grover(qc)\n",
    "\n",
    "qc = añadir_permutaciones(qc)\n",
    "qc.mct([3,6,9,12], 22)\n",
    "qc = deshacer_permutaciones(qc)\n",
    "qc.measure(22,0)\n",
    "\n",
    "backend = Aer.get_backend(\"qasm_simulator\")\n",
    "job = execute(qc, backend, shots = 1000)\n",
    "job.result().get_counts()\n",
    "#qc.draw(output = \"mpl\")\n",
    "\n",
    "# 1 no tiene solución, 0 tiene solución"
   ]
  },
  {
   "cell_type": "code",
   "execution_count": null,
   "metadata": {},
   "outputs": [],
   "source": []
  }
 ],
 "metadata": {
  "kernelspec": {
   "display_name": "Python 3",
   "language": "python",
   "name": "python3"
  },
  "language_info": {
   "codemirror_mode": {
    "name": "ipython",
    "version": 3
   },
   "file_extension": ".py",
   "mimetype": "text/x-python",
   "name": "python",
   "nbconvert_exporter": "python",
   "pygments_lexer": "ipython3",
   "version": "3.8.3"
  }
 },
 "nbformat": 4,
 "nbformat_minor": 4
}
