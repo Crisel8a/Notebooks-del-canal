{
 "cells": [
  {
   "cell_type": "code",
   "execution_count": 8,
   "metadata": {},
   "outputs": [],
   "source": [
    "def crear_ansantz(n, parametros):\n",
    "    \n",
    "    ansantz = QuantumCircuit(n)\n",
    "        \n",
    "    for i in range(n):\n",
    "        \n",
    "        ansantz.ry(parametros[i], i)\n",
    "        \n",
    "    for i in range(n-1, 0, -1):\n",
    "        \n",
    "        ansantz.cx(i, i-1)\n",
    "        \n",
    "    for i in range(n):\n",
    "        \n",
    "        ansantz.ry(parametros[i + n], i)\n",
    "        \n",
    "    return ansantz\n",
    "    \n",
    "    "
   ]
  },
  {
   "cell_type": "code",
   "execution_count": 2,
   "metadata": {},
   "outputs": [],
   "source": [
    "def resolver(H, crear_ansantz):\n",
    "    \n",
    "    params = np.random.rand(H.n_qubits * 2) * np.pi\n",
    "    \n",
    "    def func(params):\n",
    "        return H.calcular_valor_esperado(crear_ansantz(H.n_qubits, params))\n",
    "    \n",
    "    solucion = scipy.optimize.minimize(fun = func, method = \"COBYLA\", x0 = params)\n",
    "    \n",
    "    circ = QuantumCircuit(H.n_qubits, H.n_qubits)\n",
    "    circ += crear_ansantz(H.n_qubits, solucion['x'])\n",
    "    circ.measure(range(H.n_qubits), range(H.n_qubits))\n",
    "    \n",
    "    backend = Aer.get_backend('qasm_simulator')\n",
    "    job = execute(circ, backend, shots = 1)\n",
    "    result = job.result().get_counts()\n",
    "    return list(result.keys())[0]\n",
    "    \n",
    "    "
   ]
  },
  {
   "cell_type": "code",
   "execution_count": 3,
   "metadata": {},
   "outputs": [],
   "source": [
    "def aclarar_solucion(solucion):\n",
    "    \n",
    "    for i, color in enumerate(solucion):\n",
    "        \n",
    "        if color == '0':\n",
    "            print(nodos[i], \"es de color rojo\")\n",
    "        else:\n",
    "            print(nodos[i], \"es de color azul\")"
   ]
  },
  {
   "cell_type": "code",
   "execution_count": 16,
   "metadata": {},
   "outputs": [
    {
     "name": "stdout",
     "output_type": "stream",
     "text": [
      "A es de color rojo\n",
      "B es de color azul\n",
      "C es de color azul\n",
      "D es de color azul\n",
      "E es de color rojo\n",
      "con un coste de 13.0\n"
     ]
    }
   ],
   "source": [
    "import hamiltoniano as hmt\n",
    "from qiskit import *\n",
    "import scipy\n",
    "import matplotlib.pyplot as plt\n",
    "import numpy as np\n",
    "\n",
    "nodos = ['A', 'B', 'C', 'D', 'E']\n",
    "\n",
    "\n",
    "pesos = {\n",
    "    'AB': 1,\n",
    "    'BA': 1,\n",
    "    'AC': 4,\n",
    "    'CA': 4,\n",
    "    'AD': 2,\n",
    "    'DA': 2,\n",
    "    'BE': 3,\n",
    "    'EB': 3,\n",
    "    'CD': 2,\n",
    "    'DC': 2,\n",
    "    'DE': 5,\n",
    "    'ED': 5\n",
    "}\n",
    "\n",
    "n_qubits = len(nodos)\n",
    "\n",
    "H = hmt.Hamiltoniano(n_qubits)\n",
    "for peso in pesos:\n",
    "    \n",
    "    termino1 = hmt.Termino_hamiltoniano([['Z', nodos.index(peso[0])],['Z', nodos.index(peso[1])]], \n",
    "                                   n_qubits, pesos[peso]/2)\n",
    "    \n",
    "    H.incluir_termino(termino1)\n",
    "\n",
    "    \n",
    "solucion = resolver(H, crear_ansantz)\n",
    "\n",
    "aclarar_solucion(solucion)\n",
    "\n",
    "circ_valor = QuantumCircuit(n_qubits)\n",
    "\n",
    "for i, color in enumerate(solucion):\n",
    "    \n",
    "    if color == '0':\n",
    "        \n",
    "        circ_valor.x(i)\n",
    "        \n",
    "print(\"con un coste de\", -H.calcular_valor_esperado(circ_valor))"
   ]
  },
  {
   "cell_type": "code",
   "execution_count": null,
   "metadata": {},
   "outputs": [],
   "source": []
  }
 ],
 "metadata": {
  "kernelspec": {
   "display_name": "Python 3",
   "language": "python",
   "name": "python3"
  },
  "language_info": {
   "codemirror_mode": {
    "name": "ipython",
    "version": 3
   },
   "file_extension": ".py",
   "mimetype": "text/x-python",
   "name": "python",
   "nbconvert_exporter": "python",
   "pygments_lexer": "ipython3",
   "version": "3.8.3"
  }
 },
 "nbformat": 4,
 "nbformat_minor": 4
}
