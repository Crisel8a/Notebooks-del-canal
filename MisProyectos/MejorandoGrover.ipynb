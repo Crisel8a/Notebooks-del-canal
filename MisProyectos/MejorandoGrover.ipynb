{
 "cells": [
  {
   "cell_type": "code",
   "execution_count": 1,
   "metadata": {},
   "outputs": [],
   "source": [
    "from qiskit import *\n",
    "from qiskit.visualization import plot_histogram\n",
    "from qiskit.circuit.library import RealAmplitudes\n",
    "import numpy as np\n",
    "import torch\n",
    "from torch.autograd import Variable"
   ]
  },
  {
   "cell_type": "code",
   "execution_count": 2,
   "metadata": {},
   "outputs": [],
   "source": [
    "# esta función devolvera (M^-1)*P*D*(P^-1) si 'con_M' es True\n",
    "# o devolverá P*D*(P^-1) si es False\n",
    "\n",
    "def obtener_circuitos(parametros, n, reps, con_M = True):\n",
    "    \n",
    "    if len(parametros) != (2 * reps + 1) * (2*n - 1):\n",
    "        raise Exception(\"longitud de parametros incorrecta\")\n",
    "        \n",
    "    # reps = numero de veces que repetimos la estructura del ansantz\n",
    "    # n = número de qubits con los que trabajaremos (sin ancillas)\n",
    "    \n",
    "    circ = QuantumCircuit(2*n - 1)\n",
    "    \n",
    "    M_1 = obtener_M_1(n)\n",
    "    \n",
    "    P, P_1 = obtener_Ps(parametros[:(2 * reps) * (2*n - 1)], n, reps)\n",
    "    \n",
    "    D = obtener_D(parametros[(2 * reps) * (2*n - 1):], n)\n",
    "    \n",
    "    if con_M:\n",
    "        circ += M_1\n",
    "    circ += P\n",
    "    circ += D\n",
    "    circ += P_1\n",
    "    \n",
    "    return circ"
   ]
  },
  {
   "cell_type": "code",
   "execution_count": 3,
   "metadata": {},
   "outputs": [],
   "source": [
    "# M es el oráculo más la puerta de Grover\n",
    "# Estas función devolverá la inversa de este circuito\n",
    "\n",
    "def obtener_M_1(n):\n",
    "    \n",
    "    # número de qubits con los que vamos a trabajar (sin contar ancillas)\n",
    "    \n",
    "    M = QuantumCircuit(2 * n - 1)\n",
    "\n",
    "    # Primera parte que marca un elemento, en este caso 11111111\n",
    "    \n",
    "    M.x(2*n - 2)\n",
    "    M.h(2*n - 2)\n",
    "    \n",
    "    M.ccx(0,1,n)\n",
    "\n",
    "    for i in range(2,n):\n",
    "        M.ccx(i, n - 2 + i, n - 1 + i)\n",
    "    \n",
    "    \n",
    "    \n",
    "    for i in range(n-2,1, -1):\n",
    "        M.ccx(i, n - 2 + i, n - 1 + i)\n",
    "        \n",
    "    M.ccx(0,1,n)\n",
    "    \n",
    "    M.h(2*n - 2)\n",
    "    M.x(2*n - 2)\n",
    "    # Segunda parte que aplica Grover\n",
    "    \n",
    "    M.h(range(n))\n",
    "    M.x(range(n))\n",
    "\n",
    "    M.ccx(0,1,n)\n",
    "    for i in range(2,n-1):\n",
    "        M.ccx(i, n - 2 + i, n - 1 + i)\n",
    "\n",
    "    M.cz(2* n - 3,n - 1)\n",
    "\n",
    "    for i in range(n - 2,1, -1):\n",
    "        M.ccx(i, n - 2 + i, n - 1 + i)\n",
    "    M.ccx(0,1,n)\n",
    "    M.x(range(n))\n",
    "    M.h(range(n))\n",
    "\n",
    "    #hacemos la inversa\n",
    "    M_1 = M.inverse()\n",
    "    M_1\n",
    "    return M_1\n",
    "\n"
   ]
  },
  {
   "cell_type": "code",
   "execution_count": null,
   "metadata": {},
   "outputs": [],
   "source": []
  },
  {
   "cell_type": "code",
   "execution_count": 4,
   "metadata": {},
   "outputs": [],
   "source": [
    "# Vamos a intentar aproximar P con un ansantz\n",
    "# Utilizaremos el 2 de este paper: https://arxiv.org/pdf/1905.10876.pdf\n",
    "# Además damos la opción de meter más de una capa (reps := numero de capas)\n",
    "\n",
    "def obtener_Ps(parametros, n , reps):\n",
    "    \n",
    "    param_rep = int(len(parametros) / reps)\n",
    "    P = QuantumCircuit(2*n - 1)\n",
    "    for rep in range(reps):\n",
    "        i = 0\n",
    "        for j, p in enumerate(parametros[param_rep*i: param_rep*(i+1)]):\n",
    "            if j % 2 == 0:\n",
    "                P.rx(p, j//2)\n",
    "            else:\n",
    "                P.rz(p, (j-1)//2)\n",
    "        i += 1\n",
    "    \n",
    "        for k in range(2*n - 2, 0, -1):\n",
    "            P.cx(k, k-1)\n",
    "            \n",
    "    P_1 = P.inverse()\n",
    "    \n",
    "    return P, P_1\n"
   ]
  },
  {
   "cell_type": "code",
   "execution_count": 5,
   "metadata": {},
   "outputs": [],
   "source": [
    "# Esta función devuelve D\n",
    "\n",
    "def obtener_D(parametros, n):\n",
    "    D = QuantumCircuit(2 * n - 1)\n",
    "    \n",
    "    for i in range(2 * n - 1):\n",
    "        D.rz(parametros[i],i)\n",
    "    \n",
    "    return D\n",
    "\n"
   ]
  },
  {
   "cell_type": "code",
   "execution_count": 6,
   "metadata": {},
   "outputs": [
    {
     "data": {
      "text/html": [
       "<pre style=\"word-wrap: normal;white-space: pre;background: #fff0;line-height: 1.1;font-family: &quot;Courier New&quot;,Courier,monospace\">     ┌───┐┌───┐             ┌───┐┌───┐               ┌─────────┐┌─────────┐»\n",
       "q_0: ┤ H ├┤ X ├──■───────■──┤ X ├┤ H ├──■─────────■──┤ RX(0.1) ├┤ RZ(0.1) ├»\n",
       "     ├───┤├───┤  │       │  ├───┤├───┤  │         │  ├─────────┤├─────────┤»\n",
       "q_1: ┤ H ├┤ X ├──■───────■──┤ X ├┤ H ├──■─────────■──┤ RX(0.1) ├┤ RZ(0.1) ├»\n",
       "     ├───┤├───┤  │       │  ├───┤├───┤  │         │  ├─────────┤├─────────┤»\n",
       "q_2: ┤ H ├┤ X ├──┼───■───┼──┤ X ├┤ H ├──┼────■────┼──┤ RX(0.1) ├┤ RZ(0.1) ├»\n",
       "     └───┘└───┘┌─┴─┐ │ ┌─┴─┐└───┘└───┘┌─┴─┐  │  ┌─┴─┐├─────────┤├─────────┤»\n",
       "q_3: ──────────┤ X ├─■─┤ X ├──────────┤ X ├──■──┤ X ├┤ RX(0.1) ├┤ RZ(0.1) ├»\n",
       "     ┌───┐┌───┐└───┘   └───┘          └───┘┌─┴─┐├───┤└──┬───┬──┘├─────────┤»\n",
       "q_4: ┤ X ├┤ H ├────────────────────────────┤ X ├┤ H ├───┤ X ├───┤ RX(0.1) ├»\n",
       "     └───┘└───┘                            └───┘└───┘   └───┘   └─────────┘»\n",
       "«                                              ┌───┐   ┌─────────┐┌─────────┐»\n",
       "«q_0: ─────────────────────────────────────────┤ X ├───┤ RX(0.1) ├┤ RZ(0.1) ├»\n",
       "«                                   ┌───┐      └─┬─┘   ├─────────┤├─────────┤»\n",
       "«q_1: ──────────────────────────────┤ X ├────────■─────┤ RX(0.1) ├┤ RZ(0.1) ├»\n",
       "«                        ┌───┐      └─┬─┘   ┌─────────┐├─────────┤└──┬───┬──┘»\n",
       "«q_2: ───────────────────┤ X ├────────■─────┤ RX(0.1) ├┤ RZ(0.1) ├───┤ X ├───»\n",
       "«                ┌───┐   └─┬─┘   ┌─────────┐├─────────┤└──┬───┬──┘   └─┬─┘   »\n",
       "«q_3: ───────────┤ X ├─────■─────┤ RX(0.1) ├┤ RZ(0.1) ├───┤ X ├────────■─────»\n",
       "«     ┌─────────┐└─┬─┘┌─────────┐├─────────┤└─────────┘   └─┬─┘   ┌─────────┐»\n",
       "«q_4: ┤ RZ(0.1) ├──■──┤ RX(0.1) ├┤ RZ(0.1) ├────────────────■─────┤ RZ(0.1) ├»\n",
       "«     └─────────┘     └─────────┘└─────────┘                      └─────────┘»\n",
       "«                   ┌───┐   ┌─────────┐┌───┐┌──────────┐┌──────────┐»\n",
       "«q_0: ──────────────┤ X ├───┤ RZ(0.1) ├┤ X ├┤ RZ(-0.1) ├┤ RX(-0.1) ├»\n",
       "«        ┌───┐      └─┬─┘   ├─────────┤└─┬─┘└──┬───┬───┘├──────────┤»\n",
       "«q_1: ───┤ X ├────────■─────┤ RZ(0.1) ├──■─────┤ X ├────┤ RZ(-0.1) ├»\n",
       "«        └─┬─┘   ┌─────────┐└─────────┘        └─┬─┘    └──┬───┬───┘»\n",
       "«q_2: ─────■─────┤ RZ(0.1) ├─────────────────────■─────────┤ X ├────»\n",
       "«     ┌─────────┐└─────────┘                               └─┬─┘    »\n",
       "«q_3: ┤ RZ(0.1) ├────────────────────────────────────────────■──────»\n",
       "«     └─────────┘                                                   »\n",
       "«q_4: ──────────────────────────────────────────────────────────────»\n",
       "«                                                                   »\n",
       "«                    ┌───┐    ┌──────────┐┌──────────┐                        »\n",
       "«q_0: ───────────────┤ X ├────┤ RZ(-0.1) ├┤ RX(-0.1) ├────────────────────────»\n",
       "«     ┌──────────┐   └─┬─┘    └──┬───┬───┘├──────────┤┌──────────┐            »\n",
       "«q_1: ┤ RX(-0.1) ├─────■─────────┤ X ├────┤ RZ(-0.1) ├┤ RX(-0.1) ├────────────»\n",
       "«     ├──────────┤┌──────────┐   └─┬─┘    └──┬───┬───┘├──────────┤┌──────────┐»\n",
       "«q_2: ┤ RZ(-0.1) ├┤ RX(-0.1) ├─────■─────────┤ X ├────┤ RZ(-0.1) ├┤ RX(-0.1) ├»\n",
       "«     └──┬───┬───┘├──────────┤┌──────────┐   └─┬─┘    └──┬───┬───┘├──────────┤»\n",
       "«q_3: ───┤ X ├────┤ RZ(-0.1) ├┤ RX(-0.1) ├─────■─────────┤ X ├────┤ RZ(-0.1) ├»\n",
       "«        └─┬─┘    ├──────────┤├──────────┤               └─┬─┘    ├──────────┤»\n",
       "«q_4: ─────■──────┤ RZ(-0.1) ├┤ RX(-0.1) ├─────────────────■──────┤ RZ(-0.1) ├»\n",
       "«                 └──────────┘└──────────┘                        └──────────┘»\n",
       "«                 \n",
       "«q_0: ────────────\n",
       "«                 \n",
       "«q_1: ────────────\n",
       "«                 \n",
       "«q_2: ────────────\n",
       "«     ┌──────────┐\n",
       "«q_3: ┤ RX(-0.1) ├\n",
       "«     ├──────────┤\n",
       "«q_4: ┤ RX(-0.1) ├\n",
       "«     └──────────┘</pre>"
      ],
      "text/plain": [
       "     ┌───┐┌───┐             ┌───┐┌───┐               ┌─────────┐┌─────────┐»\n",
       "q_0: ┤ H ├┤ X ├──■───────■──┤ X ├┤ H ├──■─────────■──┤ RX(0.1) ├┤ RZ(0.1) ├»\n",
       "     ├───┤├───┤  │       │  ├───┤├───┤  │         │  ├─────────┤├─────────┤»\n",
       "q_1: ┤ H ├┤ X ├──■───────■──┤ X ├┤ H ├──■─────────■──┤ RX(0.1) ├┤ RZ(0.1) ├»\n",
       "     ├───┤├───┤  │       │  ├───┤├───┤  │         │  ├─────────┤├─────────┤»\n",
       "q_2: ┤ H ├┤ X ├──┼───■───┼──┤ X ├┤ H ├──┼────■────┼──┤ RX(0.1) ├┤ RZ(0.1) ├»\n",
       "     └───┘└───┘┌─┴─┐ │ ┌─┴─┐└───┘└───┘┌─┴─┐  │  ┌─┴─┐├─────────┤├─────────┤»\n",
       "q_3: ──────────┤ X ├─■─┤ X ├──────────┤ X ├──■──┤ X ├┤ RX(0.1) ├┤ RZ(0.1) ├»\n",
       "     ┌───┐┌───┐└───┘   └───┘          └───┘┌─┴─┐├───┤└──┬───┬──┘├─────────┤»\n",
       "q_4: ┤ X ├┤ H ├────────────────────────────┤ X ├┤ H ├───┤ X ├───┤ RX(0.1) ├»\n",
       "     └───┘└───┘                            └───┘└───┘   └───┘   └─────────┘»\n",
       "«                                              ┌───┐   ┌─────────┐┌─────────┐»\n",
       "«q_0: ─────────────────────────────────────────┤ X ├───┤ RX(0.1) ├┤ RZ(0.1) ├»\n",
       "«                                   ┌───┐      └─┬─┘   ├─────────┤├─────────┤»\n",
       "«q_1: ──────────────────────────────┤ X ├────────■─────┤ RX(0.1) ├┤ RZ(0.1) ├»\n",
       "«                        ┌───┐      └─┬─┘   ┌─────────┐├─────────┤└──┬───┬──┘»\n",
       "«q_2: ───────────────────┤ X ├────────■─────┤ RX(0.1) ├┤ RZ(0.1) ├───┤ X ├───»\n",
       "«                ┌───┐   └─┬─┘   ┌─────────┐├─────────┤└──┬───┬──┘   └─┬─┘   »\n",
       "«q_3: ───────────┤ X ├─────■─────┤ RX(0.1) ├┤ RZ(0.1) ├───┤ X ├────────■─────»\n",
       "«     ┌─────────┐└─┬─┘┌─────────┐├─────────┤└─────────┘   └─┬─┘   ┌─────────┐»\n",
       "«q_4: ┤ RZ(0.1) ├──■──┤ RX(0.1) ├┤ RZ(0.1) ├────────────────■─────┤ RZ(0.1) ├»\n",
       "«     └─────────┘     └─────────┘└─────────┘                      └─────────┘»\n",
       "«                   ┌───┐   ┌─────────┐┌───┐┌──────────┐┌──────────┐»\n",
       "«q_0: ──────────────┤ X ├───┤ RZ(0.1) ├┤ X ├┤ RZ(-0.1) ├┤ RX(-0.1) ├»\n",
       "«        ┌───┐      └─┬─┘   ├─────────┤└─┬─┘└──┬───┬───┘├──────────┤»\n",
       "«q_1: ───┤ X ├────────■─────┤ RZ(0.1) ├──■─────┤ X ├────┤ RZ(-0.1) ├»\n",
       "«        └─┬─┘   ┌─────────┐└─────────┘        └─┬─┘    └──┬───┬───┘»\n",
       "«q_2: ─────■─────┤ RZ(0.1) ├─────────────────────■─────────┤ X ├────»\n",
       "«     ┌─────────┐└─────────┘                               └─┬─┘    »\n",
       "«q_3: ┤ RZ(0.1) ├────────────────────────────────────────────■──────»\n",
       "«     └─────────┘                                                   »\n",
       "«q_4: ──────────────────────────────────────────────────────────────»\n",
       "«                                                                   »\n",
       "«                    ┌───┐    ┌──────────┐┌──────────┐                        »\n",
       "«q_0: ───────────────┤ X ├────┤ RZ(-0.1) ├┤ RX(-0.1) ├────────────────────────»\n",
       "«     ┌──────────┐   └─┬─┘    └──┬───┬───┘├──────────┤┌──────────┐            »\n",
       "«q_1: ┤ RX(-0.1) ├─────■─────────┤ X ├────┤ RZ(-0.1) ├┤ RX(-0.1) ├────────────»\n",
       "«     ├──────────┤┌──────────┐   └─┬─┘    └──┬───┬───┘├──────────┤┌──────────┐»\n",
       "«q_2: ┤ RZ(-0.1) ├┤ RX(-0.1) ├─────■─────────┤ X ├────┤ RZ(-0.1) ├┤ RX(-0.1) ├»\n",
       "«     └──┬───┬───┘├──────────┤┌──────────┐   └─┬─┘    └──┬───┬───┘├──────────┤»\n",
       "«q_3: ───┤ X ├────┤ RZ(-0.1) ├┤ RX(-0.1) ├─────■─────────┤ X ├────┤ RZ(-0.1) ├»\n",
       "«        └─┬─┘    ├──────────┤├──────────┤               └─┬─┘    ├──────────┤»\n",
       "«q_4: ─────■──────┤ RZ(-0.1) ├┤ RX(-0.1) ├─────────────────■──────┤ RZ(-0.1) ├»\n",
       "«                 └──────────┘└──────────┘                        └──────────┘»\n",
       "«                 \n",
       "«q_0: ────────────\n",
       "«                 \n",
       "«q_1: ────────────\n",
       "«                 \n",
       "«q_2: ────────────\n",
       "«     ┌──────────┐\n",
       "«q_3: ┤ RX(-0.1) ├\n",
       "«     ├──────────┤\n",
       "«q_4: ┤ RX(-0.1) ├\n",
       "«     └──────────┘"
      ]
     },
     "execution_count": 6,
     "metadata": {},
     "output_type": "execute_result"
    }
   ],
   "source": [
    "# el número de parametros sigue la siguiente formula\n",
    "# len(parametros) := (2 * reps + 1) * (2*n - 1)\n",
    "\n",
    "# por si queremos visualizar un ejemplo (3 qubits, 2 repeticiones de ansantz, 25 parametros que hacen falta)\n",
    "# se vería más claro con barreras pero si las pongo luego da problemas\n",
    "\n",
    "\n",
    "obtener_circuitos([0.1] * 25, 3, 2).draw()"
   ]
  },
  {
   "cell_type": "code",
   "execution_count": 14,
   "metadata": {},
   "outputs": [],
   "source": [
    "# Esta función se encarga de tomar unos parametros iniciales e ir optimizandolos con descenso de gradiente\n",
    "\n",
    "def entrenar(n, reps, epochs):\n",
    "    error = []\n",
    "    params = torch.tensor(np.random.rand((2 * reps + 1) * (2*n - 1)) * (2 * np.pi),  requires_grad=True)\n",
    "\n",
    "    x = Variable(params, requires_grad=True)\n",
    "\n",
    "    opt = torch.optim.SGD([x], lr=0.001)\n",
    "\n",
    "    for epoch in range(epochs):\n",
    "        if epoch % 50 == 0:\n",
    "            print(\"epoch\", epoch)\n",
    "        #with torch.no_grad():\n",
    "         #   for x_ in x:\n",
    "          #      x_.clamp_(min= 0, max=1)\n",
    "\n",
    "        loss = funcion_de_error(x, n, reps)\n",
    "        error.append(loss)\n",
    "        opt.zero_grad()\n",
    "        loss.backward()\n",
    "        opt.step()\n",
    "        solucion = list(x.detach().numpy())\n",
    "    return plot_params(solucion, n, reps), error"
   ]
  },
  {
   "cell_type": "code",
   "execution_count": 8,
   "metadata": {},
   "outputs": [],
   "source": [
    "# Estamos calculando el error a través del hadamard-test\n",
    "\n",
    "def funcion_de_error(parametros, n, reps):\n",
    "    \n",
    "    parametros = parametros.detach().numpy()\n",
    "    \n",
    "    \n",
    "    qc = QuantumCircuit(2*n,1)\n",
    "    qc.h(0)\n",
    "    \n",
    "    circ = obtener_circuitos(parametros, n, reps).to_gate()\n",
    "    circ = circ.control(1)\n",
    "    qc.append(circ, range(2*n))\n",
    "    qc.h(0)\n",
    "    qc.measure(0,0)\n",
    "\n",
    "    shots = 10000\n",
    "    backend = Aer.get_backend(\"qasm_simulator\")\n",
    "    result = execute(qc, backend, shots=shots).result().get_counts()\n",
    "    \n",
    "    \n",
    "    \n",
    "    return torch.tensor(1 - result['0']/shots + result['1']/shots, requires_grad=True)"
   ]
  },
  {
   "cell_type": "code",
   "execution_count": 9,
   "metadata": {},
   "outputs": [],
   "source": [
    "# Esta función ya calcula la salida final es decir:\n",
    "# |0> - |H> - P * (D^k) * (P^-1) siendo k el número de iteraciones necesarias\n",
    "\n",
    "def plot_params(parametros, n, reps):\n",
    "    \n",
    "    final = QuantumCircuit(2*n - 1,n)\n",
    "    final.h(range(n))\n",
    "    final += obtener_circuitos(parametros[:(2 * reps) * (2*n - 1)] + [l * int(2 ** (n/2)) for l in parametros[(2 * reps) * (2*n - 1):]], n,reps, con_M = False)\n",
    "    final.measure(range(n), range(n))\n",
    "    backend = Aer.get_backend(\"qasm_simulator\")\n",
    "    result = execute(final, backend, shots=10000).result().get_counts()\n",
    "    return result"
   ]
  },
  {
   "cell_type": "code",
   "execution_count": 15,
   "metadata": {},
   "outputs": [
    {
     "name": "stdout",
     "output_type": "stream",
     "text": [
      "epoch 0\n",
      "epoch 50\n",
      "epoch 100\n",
      "epoch 150\n",
      "epoch 200\n",
      "epoch 250\n"
     ]
    }
   ],
   "source": [
    "# primer parametro: número de qubits\n",
    "# segundo parametro: número de repeticiones del ansantz\n",
    "# tercer parametro: número de épocas para ejecutar el algoritmo\n",
    "\n",
    "counts, error = entrenar(3,2,300)\n",
    "\n",
    "\n",
    "# la salida esperada sería obtener una alta probabilidad en 111"
   ]
  },
  {
   "cell_type": "code",
   "execution_count": 16,
   "metadata": {},
   "outputs": [
    {
     "data": {
      "text/plain": [
       "[<matplotlib.lines.Line2D at 0x7fba6c5df8e0>]"
      ]
     },
     "execution_count": 16,
     "metadata": {},
     "output_type": "execute_result"
    },
    {
     "data": {
      "image/png": "[encoded data removed]",
      "text/plain": [
       "<Figure size 432x288 with 1 Axes>"
      ]
     },
     "metadata": {
      "needs_background": "light"
     },
     "output_type": "display_data"
    }
   ],
   "source": [
    "import matplotlib.pyplot as plt\n",
    "\n",
    "plt.plot(error)"
   ]
  },
  {
   "cell_type": "code",
   "execution_count": 17,
   "metadata": {},
   "outputs": [
    {
     "data": {
      "image/png": "[encoded data removed]",
      "text/plain": [
       "<Figure size 504x360 with 1 Axes>"
      ]
     },
     "execution_count": 17,
     "metadata": {},
     "output_type": "execute_result"
    }
   ],
   "source": [
    "plot_histogram(counts)"
   ]
  },
  {
   "cell_type": "code",
   "execution_count": null,
   "metadata": {},
   "outputs": [],
   "source": []
  }
 ],
 "metadata": {
  "kernelspec": {
   "display_name": "Python 3",
   "language": "python",
   "name": "python3"
  },
  "language_info": {
   "codemirror_mode": {
    "name": "ipython",
    "version": 3
   },
   "file_extension": ".py",
   "mimetype": "text/x-python",
   "name": "python",
   "nbconvert_exporter": "python",
   "pygments_lexer": "ipython3",
   "version": "3.8.3"
  }
 },
 "nbformat": 4,
 "nbformat_minor": 4
}
