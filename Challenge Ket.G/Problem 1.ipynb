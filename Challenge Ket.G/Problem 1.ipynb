{
 "cells": [
  {
   "cell_type": "markdown",
   "metadata": {},
   "source": [
    "## Analisis del problema\n",
    "Los datos de entrada tienen una forma como esta: \n",
    "\n",
    "inputs = [[2,2,1,0,0,3],\n",
    "           [1,1,2,1,3,0], \n",
    "           [1,3,2,3,3,1],\n",
    "           [2,0,0,0,0,1]]\n",
    "           \n",
    "donde los valores de cada estado van a tomar valores desde el 0 hasta el 3. Para codificar esto utilizaremos por tanto 2 qubits por valor ( ya que podemos ir desde el 0 = 00 hasta el 3 = 11), por lo que necesitaremos 2 x 6 = 12 qubits para cada estado. Al haber 4 estados de entrada necesitaremos otros dos qubits para almacenar dichos valores en la qRAM por lo que dicha parte ocupará en total 14 qubits."
   ]
  },
  {
   "cell_type": "code",
   "execution_count": 39,
   "metadata": {},
   "outputs": [],
   "source": [
    "# construyamos la qRAM\n",
    "\n",
    "from qiskit import *\n",
    "from qiskit.visualization import plot_histogram\n",
    "\n",
    "def make_qRAM(inputs):\n",
    "    \n",
    "    qc = QuantumCircuit(14)\n",
    "    \n",
    "    for indx in range(4):\n",
    "        \n",
    "        binary_indx = bin(4 + indx)[-2:]\n",
    "        \n",
    "        if binary_indx[0] == '0':\n",
    "            qc.x(0)\n",
    "        if binary_indx[1] == '0':\n",
    "            qc.x(1)\n",
    "            \n",
    "        for j, value in enumerate(inputs[indx]):\n",
    "            \n",
    "            binary_value = bin(4 + value)[-2:]\n",
    "            \n",
    "            if binary_value[0] == '1':\n",
    "                qc.ccx(0,1, 2 + 2 * j)\n",
    "                \n",
    "            if binary_value[1] == '1':\n",
    "                qc.ccx(0,1, 2 + 2 * j + 1)\n",
    "        \n",
    "        if binary_indx[0] == '0':\n",
    "            qc.x(0)\n",
    "        if binary_indx[1] == '0':\n",
    "            qc.x(1)\n",
    "            \n",
    "    gate = qc.to_gate()\n",
    "    gate.name = 'qRAM'\n",
    "    return gate\n",
    "\n"
   ]
  },
  {
   "cell_type": "code",
   "execution_count": 86,
   "metadata": {},
   "outputs": [],
   "source": [
    "# ya la teniamos definida en el canal\n",
    "\n",
    "from numpy import pi\n",
    "\n",
    "def QFT(n):\n",
    "    qft_circ = QuantumCircuit(n)\n",
    "    for i in range(n-1, -1, -1):\n",
    "        qft_circ.h(i)\n",
    "        \n",
    "        for j in range(i - 1, -1, -1): \n",
    "            qft_circ.cu1(pi/(2 ** (i - j)), j, i)\n",
    " \n",
    "        \n",
    "    for i in range(n // 2):\n",
    "        qft_circ.swap(i, n - i - 1)\n",
    "    gate = qft_circ.to_gate()\n",
    "    gate.name = \"QFT\" + str(n)\n",
    "    return  gate\n",
    "\n",
    "\n",
    "def invQFT(n):\n",
    "    qft_circ = QuantumCircuit(n)\n",
    "    for i in range(n-1, -1, -1):\n",
    "        qft_circ.h(i)\n",
    "        \n",
    "        for j in range(i - 1, -1, -1): \n",
    "            qft_circ.cu1(pi/(2 ** (i - j)), j, i)\n",
    " \n",
    "        \n",
    "    for i in range(n // 2):\n",
    "        qft_circ.swap(i, n - i - 1)\n",
    "    qft_circ = qft_circ.inverse()\n",
    "    gate = qft_circ.to_gate()\n",
    "    gate.name = \"invQFT\" + str(n)\n",
    "    return  gate"
   ]
  },
  {
   "cell_type": "code",
   "execution_count": 117,
   "metadata": {},
   "outputs": [],
   "source": [
    "def add_qubit(qc, q, sign = 1):\n",
    "      \n",
    "    if q > 7:\n",
    "        sign = -sign\n",
    "        \n",
    "    for indx, qb in enumerate(range(14,18)):\n",
    "        qc.cu1(sign * pi / (2**(3 - indx)), q, qb)\n",
    "    "
   ]
  },
  {
   "cell_type": "code",
   "execution_count": 118,
   "metadata": {},
   "outputs": [],
   "source": [
    "def adder(qc, sign = 1):\n",
    "    qc.append(QFT(4), range(14,18))\n",
    "\n",
    "    for q in range(2,14):\n",
    "    \n",
    "        add_qubit(qc, q, sign)\n",
    "    \n",
    "        if q % 2 == 0:\n",
    "            add_qubit(qc, q, sign)\n",
    "        qc.barrier()\n",
    "    \n",
    "    qc.append(invQFT(4), range(14,18))"
   ]
  },
  {
   "cell_type": "code",
   "execution_count": 146,
   "metadata": {},
   "outputs": [],
   "source": [
    "inputs = [[2,2,1,0,0,3], [1,3,2,3,3,1], [2,0,0,0,0,1], [1,1,2,1,3,0]]\n",
    "\n",
    "qc = QuantumCircuit(18,2)\n",
    "qc.h(range(2))\n",
    "qc.append(make_qRAM(inputs), range(14))\n",
    "\n",
    "\n",
    "adder(qc)\n",
    "\n",
    "# oracle\n",
    "\n",
    "qc.x(range(14,18))\n",
    "qc.h(17)\n",
    "qc.mct([14,15,16],17)\n",
    "qc.h(17)\n",
    "qc.x(range(14,18))\n",
    "\n",
    "\n",
    "\n",
    "adder(qc, -1)\n",
    "qc.append(make_qRAM(inputs), range(14))\n",
    "\n",
    "# grover\n",
    "\n",
    "qc.h(range(2))\n",
    "qc.x(range(2))\n",
    "qc.cz(0,1)\n",
    "qc.x(range(2))\n",
    "qc.h(range(2))\n",
    "\n",
    "qc.measure(range(2), range(2))\n",
    "qc = qc.reverse_bits()\n",
    "#qc.draw()\n",
    "\n"
   ]
  },
  {
   "cell_type": "code",
   "execution_count": 147,
   "metadata": {},
   "outputs": [
    {
     "data": {
      "image/png": "[encoded data removed]",
      "text/plain": [
       "<Figure size 504x360 with 1 Axes>"
      ]
     },
     "execution_count": 147,
     "metadata": {},
     "output_type": "execute_result"
    }
   ],
   "source": [
    "backend = Aer.get_backend('qasm_simulator')\n",
    "job = execute(qc, backend, shots = 1000)\n",
    "plot_histogram(job.result().get_counts())"
   ]
  },
  {
   "cell_type": "code",
   "execution_count": null,
   "metadata": {},
   "outputs": [],
   "source": []
  },
  {
   "cell_type": "code",
   "execution_count": null,
   "metadata": {},
   "outputs": [],
   "source": []
  }
 ],
 "metadata": {
  "kernelspec": {
   "display_name": "Python 3",
   "language": "python",
   "name": "python3"
  },
  "language_info": {
   "codemirror_mode": {
    "name": "ipython",
    "version": 3
   },
   "file_extension": ".py",
   "mimetype": "text/x-python",
   "name": "python",
   "nbconvert_exporter": "python",
   "pygments_lexer": "ipython3",
   "version": "3.8.3"
  }
 },
 "nbformat": 4,
 "nbformat_minor": 4
}
