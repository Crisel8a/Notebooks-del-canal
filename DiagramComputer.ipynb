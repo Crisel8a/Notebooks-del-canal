{
 "cells": [
  {
   "cell_type": "markdown",
   "metadata": {},
   "source": [
    "https://csacademy.com/app/graph_editor/"
   ]
  },
  {
   "cell_type": "code",
   "execution_count": 1,
   "metadata": {},
   "outputs": [],
   "source": [
    "from qiskit import *\n",
    "IBMQ.load_account()\n",
    "provider = IBMQ.get_provider(hub='ibm-q')"
   ]
  },
  {
   "cell_type": "code",
   "execution_count": 2,
   "metadata": {},
   "outputs": [],
   "source": [
    "def media_gate(ns, couplingMap):\n",
    "\n",
    "    \n",
    "    import itertools\n",
    "\n",
    "    total_counts = 0\n",
    "    nq = couplingMap.size()\n",
    "    \n",
    "    for k in range(ns):\n",
    "        ni = 0 # numero de iteraciones\n",
    "        for i,j in itertools.permutations(range(nq), 2):\n",
    "            qc = QuantumCircuit(nq,nq)\n",
    "            qc.cx(i,j)\n",
    "            total_counts += transpile(qc, coupling_map=couplingMap, \n",
    "                                                        basis_gates=['u1', 'u2', 'u3', 'cx'], \n",
    "                                                        optimization_level= 0).count_ops()['cx']\n",
    "            ni += 1\n",
    "\n",
    "        \n",
    "        \n",
    "    media = total_counts / ns\n",
    "    return media / ni\n"
   ]
  },
  {
   "cell_type": "code",
   "execution_count": 3,
   "metadata": {},
   "outputs": [],
   "source": [
    "def str_to_list(string):\n",
    "    div = string.split()\n",
    "    lista = []\n",
    "    for i in range(0, len(div), 2):\n",
    "        lista.append([int(div[i]), int(div[i+1])])\n",
    "    return lista"
   ]
  },
  {
   "cell_type": "code",
   "execution_count": 4,
   "metadata": {},
   "outputs": [],
   "source": [
    "def check_diagram(string, ns):\n",
    "    from qiskit.transpiler import CouplingMap\n",
    "    lista = str_to_list(string)\n",
    "    return media_gate(ns,CouplingMap(lista))"
   ]
  },
  {
   "cell_type": "code",
   "execution_count": 5,
   "metadata": {},
   "outputs": [],
   "source": [
    "def nodes_degree(string):\n",
    "    numeros = string.split()\n",
    "    n_dif = set(numeros)\n",
    "    lista = []\n",
    "    for n in n_dif:\n",
    "        lista.append(numeros.count(n))\n",
    "    for e in set(lista):\n",
    "        print(\"enlaces de orden \", e, \" : \", lista.count(e))\n",
    "    "
   ]
  },
  {
   "cell_type": "code",
   "execution_count": 14,
   "metadata": {},
   "outputs": [
    {
     "name": "stdout",
     "output_type": "stream",
     "text": [
      "cada cx ejecuta realmente 2.56 cx\n",
      "enlaces de orden  2  :  4\n",
      "enlaces de orden  4  :  1\n"
     ]
    }
   ],
   "source": [
    "a = \"\"\"\n",
    "4 1\n",
    "1 0\n",
    "1 2\n",
    "1 3\n",
    "3 0\n",
    "2 4\n",
    "    \"\"\"\n",
    "\n",
    "print(\"cada cx ejecuta realmente {0} cx\".format(check_diagram(a,10)))\n",
    "nodes_degree(a)"
   ]
  },
  {
   "cell_type": "code",
   "execution_count": null,
   "metadata": {},
   "outputs": [],
   "source": []
  }
 ],
 "metadata": {
  "kernelspec": {
   "display_name": "Python 3",
   "language": "python",
   "name": "python3"
  },
  "language_info": {
   "codemirror_mode": {
    "name": "ipython",
    "version": 3
   },
   "file_extension": ".py",
   "mimetype": "text/x-python",
   "name": "python",
   "nbconvert_exporter": "python",
   "pygments_lexer": "ipython3",
   "version": "3.6.9"
  }
 },
 "nbformat": 4,
 "nbformat_minor": 2
}
