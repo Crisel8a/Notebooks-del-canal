{
 "cells": [
  {
   "cell_type": "markdown",
   "id": "d09da19a",
   "metadata": {},
   "source": [
    "El objetivo de este notebook es mostrar como podemos aplicar una transformación a un QNodo. Para ello crearemos un circuito inicial y posteriormente veremos como aplicar una transformación para sustituir las puertas X por la concatenación de una puerta Y y una puerta Z."
   ]
  },
  {
   "cell_type": "code",
   "execution_count": 1,
   "id": "47409d48",
   "metadata": {},
   "outputs": [
    {
     "name": "stdout",
     "output_type": "stream",
     "text": [
      " 0: ──X─────╭SWAP──────────╭┤ State \n",
      " 1: ──H──X──│──────╭C──────├┤ State \n",
      " 2: ────────╰SWAP──╰RZ(2)──╰┤ State \n",
      "\n"
     ]
    }
   ],
   "source": [
    "import pennylane as qml\n",
    "\n",
    "dev = qml.device(\"default.qubit\", wires = 3)\n",
    "\n",
    "@qml.qnode(dev)\n",
    "def circuit():\n",
    "    qml.PauliX(wires = 0)\n",
    "    qml.SWAP(wires = [0,2])\n",
    "    qml.Hadamard(wires = 1)\n",
    "    qml.PauliX(wires = 1)\n",
    "    qml.CRZ(2, wires = [1,2])\n",
    "    return qml.state()\n",
    "    \n",
    "circuit()\n",
    "\n",
    "print(qml.draw(circuit)())"
   ]
  },
  {
   "cell_type": "markdown",
   "id": "dad848b4",
   "metadata": {},
   "source": [
    "La transformación recorrerá las operaciones de una lista y hará la sustitución correspondiente."
   ]
  },
  {
   "cell_type": "code",
   "execution_count": 2,
   "id": "a8695263",
   "metadata": {},
   "outputs": [],
   "source": [
    "@qml.qfunc_transform\n",
    "def remove_X(tape):\n",
    "    \n",
    "    for op in tape.operations:\n",
    "        if op.name != \"PauliX\":\n",
    "            qml.apply(op)\n",
    "            \n",
    "        else:\n",
    "            qml.PauliY(wires = op.wires)\n",
    "            qml.PauliZ(wires = op.wires)\n",
    "            \n",
    "        \n",
    "    for ms in tape.measurements:\n",
    "        qml.apply(ms)"
   ]
  },
  {
   "cell_type": "markdown",
   "id": "d31508c4",
   "metadata": {},
   "source": [
    "Finalmente, utilizando el propio nombre de la función como decorador aplicaremos la función al qnodo en cuestión."
   ]
  },
  {
   "cell_type": "code",
   "execution_count": 3,
   "id": "618db91b",
   "metadata": {},
   "outputs": [
    {
     "name": "stdout",
     "output_type": "stream",
     "text": [
      " 0: ──Y──Z─────╭SWAP──────────╭┤ State \n",
      " 1: ──H──Y──Z──│──────╭C──────├┤ State \n",
      " 2: ───────────╰SWAP──╰RZ(2)──╰┤ State \n",
      "\n"
     ]
    }
   ],
   "source": [
    "import pennylane as qml\n",
    "\n",
    "dev = qml.device(\"default.qubit\", wires = 3)\n",
    "\n",
    "@qml.qnode(dev)\n",
    "@remove_X\n",
    "def circuit():\n",
    "    qml.PauliX(wires = 0)\n",
    "    qml.SWAP(wires = [0,2])\n",
    "    qml.Hadamard(wires = 1)\n",
    "    qml.PauliX(wires = 1)\n",
    "    qml.CRZ(2, wires = [1,2])\n",
    "    return qml.state()\n",
    "    \n",
    "circuit()\n",
    "\n",
    "print(qml.draw(circuit)())"
   ]
  },
  {
   "cell_type": "markdown",
   "id": "ee2668d9",
   "metadata": {},
   "source": [
    "Como podemos comprobar las puertas X han sido remplazadas correctamente."
   ]
  }
 ],
 "metadata": {
  "kernelspec": {
   "display_name": "Python 3",
   "language": "python",
   "name": "python3"
  },
  "language_info": {
   "codemirror_mode": {
    "name": "ipython",
    "version": 3
   },
   "file_extension": ".py",
   "mimetype": "text/x-python",
   "name": "python",
   "nbconvert_exporter": "python",
   "pygments_lexer": "ipython3",
   "version": "3.8.8"
  }
 },
 "nbformat": 4,
 "nbformat_minor": 5
}
