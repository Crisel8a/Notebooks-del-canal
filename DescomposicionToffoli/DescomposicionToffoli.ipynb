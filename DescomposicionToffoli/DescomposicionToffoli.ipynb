{
 "cells": [
  {
   "cell_type": "markdown",
   "id": "d9e4b608",
   "metadata": {},
   "source": [
    "# Descomposición de la puerta Toffoli\n",
    "\n",
    "La puerta de Toffoli es una de las más importantes que utilizamos dentro de la computación cuántica. Se define a partir de dos qubits de control y un qubit objetivo tal y como se muestra en la imagen:\n",
    "\n",
    "<img src=\"toffoli1.jpeg\" alt=\"drawing\" width=\"500\"/>\n",
    "\n",
    "Su comportamiento sigue una regla muy sencilla: si en todos los qubits de control tenemos el estado $|1\\rangle$, entonces aplicamos una puerta $X$ sobre el qubit objetivo. Esta puerta puede ser construida a partir de puertas que afectan a un único qubit y la puerta CNOT por lo que a lo largo de este notebook desarrollaremos dicha equivalencia. Para ello mostraremos una serie de equivalencias que nos serán de gran utilidad.\n",
    "\n",
    "La primera de las equivalencias probablemente sea las más conocida: podemos utilizar la puerta Hadamard para transformar la puerta $X$ en una puerta $Z$:\n",
    "\n",
    "<img src=\"toffoli2.jpeg\" alt=\"drawing\" width=\"500\"/>\n",
    "\n",
    "Por lo tanto, si somos capaces de descomponer la puerta $CCZ$, sabremos descomponer la puerta de Toffoli. Realmente nos será más fácil trabajar con $CCZ$ por ser una matriz diagonal así que seguiremos por esta linea.\n",
    "La siguiente propiedad es menos conocida pero no por ello menos interesante: La construcción de **Sleator-Weinfurter** , que establece una equivalencia capaz de descomponer $CCU$ para cualquier puerta $U$ unitaria. Para ello jugará con una puerta $V$ que cumpla que $V^2 = U$:\n",
    "\n",
    "<img src=\"toffoli3.jpeg\" alt=\"drawing\" width=\"600\"/>\n",
    "\n",
    "Aunque puede parecer complicado, la demostración se hace de forma muy sencilla. Solo habría que estudiar cada uno de los estados básicos y ver que realmente se comporta como queremos. Por ver un ejemplo de cómo se haría esto, veamos que efectivamente el estado $|11\\rangle|\\phi\\rangle$ se transforma en el estado $|11\\rangle U|\\phi\\rangle$:\n",
    "\n",
    "<img src=\"toffoli4.jpeg\" alt=\"drawing\" width=\"600\"/>\n",
    "\n",
    "Si comprobásemos para el resto de estados iniciales veríamos que se cumple la igualdad esperada con la puerta $CCU$. En nuestro caso particular, al estar trabajando con $U = Z$ tan solo tendríamos que aplicar la construcción anterior para $V = S$ ya que es la raiz cuadrada de $Z$. Sin embargo, con esto no hemos terminado todavía, la puerta $CS$ es una puerta que no hemos definido, por lo que debemos ser capaces de descomponerla como puertas de un único qubit y la CNOT. Es por ello que haremos uso de la última equivalencia necesaria:\n",
    "\n",
    "<img src=\"toffoli5.jpeg\" alt=\"drawing\" width=\"600\"/>\n",
    "\n",
    "\n",
    "De primeras estas equivalencias que hemos estado usando pueden parecer complicadas pero se deducen de forma similar. Juegan con puertas raiz que se anulan o no en función de si los qubits tienen el estado $|0\\rangle$ o el estado $|1\\rangle$. Juntando todas estas piezas podemos llegar a expresar la puerta de Toffoli únicamente con puertas $T$, Hadamard y CNOT:\n",
    "\n",
    "<img src=\"toffoli6.jpeg\" alt=\"drawing\" width=\"700\"/>\n",
    "\n",
    "¿Serías capaz de simplificarlo más? 😃\n",
    "\n",
    "Para cualquier duda que surja:\n",
    "\n",
    "Gmail: canalket.g@gmail.com\n",
    "\n",
    "Twitter: @KetPuntoG"
   ]
  },
  {
   "cell_type": "code",
   "execution_count": null,
   "id": "3302a7a7",
   "metadata": {},
   "outputs": [],
   "source": []
  }
 ],
 "metadata": {
  "kernelspec": {
   "display_name": "Python 3",
   "language": "python",
   "name": "python3"
  },
  "language_info": {
   "codemirror_mode": {
    "name": "ipython",
    "version": 3
   },
   "file_extension": ".py",
   "mimetype": "text/x-python",
   "name": "python",
   "nbconvert_exporter": "python",
   "pygments_lexer": "ipython3",
   "version": "3.8.8"
  }
 },
 "nbformat": 4,
 "nbformat_minor": 5
}
